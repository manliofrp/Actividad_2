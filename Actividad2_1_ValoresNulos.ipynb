{
  "nbformat": 4,
  "nbformat_minor": 0,
  "metadata": {
    "colab": {
      "provenance": [],
      "authorship_tag": "ABX9TyMOcuOx195SpNbOWrkAci7z",
      "include_colab_link": true
    },
    "kernelspec": {
      "name": "python3",
      "display_name": "Python 3"
    },
    "language_info": {
      "name": "python"
    }
  },
  "cells": [
    {
      "cell_type": "markdown",
      "metadata": {
        "id": "view-in-github",
        "colab_type": "text"
      },
      "source": [
        "<a href=\"https://colab.research.google.com/github/manliofrp/Actividad_2/blob/main/Actividad2_1_ValoresNulos.ipynb\" target=\"_parent\"><img src=\"https://colab.research.google.com/assets/colab-badge.svg\" alt=\"Open In Colab\"/></a>"
      ]
    },
    {
      "cell_type": "code",
      "execution_count": 1,
      "metadata": {
        "id": "OhDH3i72MnN8"
      },
      "outputs": [],
      "source": [
        "import pandas as pd\n",
        "import numpy as np\n",
        "import matplotlib.pyplot as plt"
      ]
    },
    {
      "cell_type": "code",
      "source": [
        "pd.options.display.max_rows = None"
      ],
      "metadata": {
        "id": "WWlj4AlMNSTX"
      },
      "execution_count": 2,
      "outputs": []
    },
    {
      "cell_type": "code",
      "source": [
        "from google.colab import files\n",
        "files.upload()"
      ],
      "metadata": {
        "id": "Psrh1p_6NXVL"
      },
      "execution_count": null,
      "outputs": []
    },
    {
      "cell_type": "code",
      "source": [
        "data = pd.read_csv('Ventas_totales.csv')\n",
        "data.head(5)"
      ],
      "metadata": {
        "id": "txFnNni3Nj-G"
      },
      "execution_count": null,
      "outputs": []
    },
    {
      "cell_type": "code",
      "source": [
        "# Se sustituyen los nulos por el promedio de las ventas en el salón\n",
        "data[\"salon_ventas\"]=data[\"salon_ventas\"].fillna(round(data[\"salon_ventas\"].mean(),1))"
      ],
      "metadata": {
        "id": "6J39ek7TPJe6"
      },
      "execution_count": 9,
      "outputs": []
    },
    {
      "cell_type": "code",
      "source": [
        "# Se sustituye el valor nulo por el numero promedio de tarjetas de debito\n",
        "data[\"tarjetas_debito\"]=data[\"tarjetas_debito\"].fillna(round(data[\"tarjetas_debito\"].mean(),1))"
      ],
      "metadata": {
        "id": "OzXf0CkYPU0M"
      },
      "execution_count": 11,
      "outputs": []
    },
    {
      "cell_type": "code",
      "source": [
        "# Se sustituyen los valores nulos por la mediana dle numero de tarjetas de credito\n",
        "data[\"tarjetas_credito\"]=data[\"tarjetas_credito\"].fillna(round(data[\"tarjetas_credito\"].median(),1))"
      ],
      "metadata": {
        "id": "pZjkT9pgPsBJ"
      },
      "execution_count": 13,
      "outputs": []
    },
    {
      "cell_type": "code",
      "source": [
        "# Se sustituyen los valores nulos por la mediana del numero de los otros medios posibles\n",
        "data[\"otros_medios\"]=data[\"otros_medios\"].fillna(round(data[\"otros_medios\"].median(),1))"
      ],
      "metadata": {
        "id": "YDzyyIfqP37S"
      },
      "execution_count": 15,
      "outputs": []
    },
    {
      "cell_type": "code",
      "source": [
        "# Se sustituyen los valores nulos por la media del subtotal de ventas\n",
        "data[\"subtotal_ventas_alimentos_bebidas\"]=data[\"subtotal_ventas_alimentos_bebidas\"].fillna(round(data[\"subtotal_ventas_alimentos_bebidas\"].mean(),1))"
      ],
      "metadata": {
        "id": "lHA62SU1QwWL"
      },
      "execution_count": 17,
      "outputs": []
    },
    {
      "cell_type": "code",
      "source": [
        "# Se sustituyen los valores nulos por la media del numero de bebidas\n",
        "data[\"bebidas\"]=data[\"bebidas\"].fillna(round(data[\"bebidas\"].mean(),1))"
      ],
      "metadata": {
        "id": "Wy3UFNDMQ3iQ"
      },
      "execution_count": 19,
      "outputs": []
    },
    {
      "cell_type": "code",
      "source": [
        "# Se sustituyen los valores nulos por la mediana del numeros en almacen\n",
        "data[\"almacen\"]=data[\"almacen\"].fillna(round(data[\"almacen\"].median(),1))"
      ],
      "metadata": {
        "id": "qN_zEKnARTeP"
      },
      "execution_count": 21,
      "outputs": []
    },
    {
      "cell_type": "code",
      "source": [
        "# Se sustituyen los valores nulos por la mediana de numeros en la venta de panaderia\n",
        "data[\"panaderia\"]=data[\"panaderia\"].fillna(round(data[\"panaderia\"].median(),1))"
      ],
      "metadata": {
        "id": "_Y9SRlfpRTau"
      },
      "execution_count": 22,
      "outputs": []
    },
    {
      "cell_type": "code",
      "source": [
        "# Se sustituyen los valores nulos por la media de las ventas en lacteos\n",
        "data[\"lacteos\"]=data[\"lacteos\"].fillna(round(data[\"lacteos\"].mean(),1))"
      ],
      "metadata": {
        "id": "eMq1Ld47Rf2T"
      },
      "execution_count": 24,
      "outputs": []
    },
    {
      "cell_type": "code",
      "source": [
        "# Se sustituyen los valores nulos por la media de las ventas en carnes\n",
        "data[\"carnes\"]=data[\"carnes\"].fillna(round(data[\"carnes\"].mean(),1))"
      ],
      "metadata": {
        "id": "hsPPsmbORfus"
      },
      "execution_count": 25,
      "outputs": []
    },
    {
      "cell_type": "code",
      "source": [
        "# Se sustituyen los valores nulos por el valor posterior en esa lista\n",
        "data[\"alimentos_preparados_rotiseria\"] = data[\"alimentos_preparados_rotiseria\"].fillna(method=\"ffill\")"
      ],
      "metadata": {
        "id": "RXKvQLD7Rfky"
      },
      "execution_count": 29,
      "outputs": []
    },
    {
      "cell_type": "code",
      "source": [
        "# Se sustituyen los valores nulos por el valor anterior en esa lista\n",
        "data[\"verduleria_fruteria\"] = data[\"verduleria_fruteria\"].fillna(method=\"bfill\")"
      ],
      "metadata": {
        "id": "MobwWqXIRfaO"
      },
      "execution_count": null,
      "outputs": []
    },
    {
      "cell_type": "code",
      "source": [
        "# Se sustituyen los valores nulos por la media en las ventas de indumentaria\n",
        "data[\"indumentaria_calzado_textiles_hogar\"]=data[\"indumentaria_calzado_textiles_hogar\"].fillna(round(data[\"indumentaria_calzado_textiles_hogar\"].mean(),1))"
      ],
      "metadata": {
        "id": "XvxLtvitRfMy"
      },
      "execution_count": 31,
      "outputs": []
    },
    {
      "cell_type": "code",
      "source": [
        "# Se sustituyen los valores nulos por le mediana en la lista de electtonicos\n",
        "data[\"electronicos_articulos_hogar\"]=data[\"electronicos_articulos_hogar\"].fillna(round(data[\"electronicos_articulos_hogar\"].median(),1))"
      ],
      "metadata": {
        "id": "b0fW2C1mRfFP"
      },
      "execution_count": 33,
      "outputs": []
    },
    {
      "cell_type": "code",
      "source": [
        "# Se sustituyen los valores nulos por la media en ventas de los otros productos\n",
        "data[\"otros\"]=data[\"otros\"].fillna(round(data[\"otros\"].mean(),1))"
      ],
      "metadata": {
        "id": "LefM5hHyRe-w"
      },
      "execution_count": 32,
      "outputs": []
    },
    {
      "cell_type": "code",
      "source": [
        "valores_nulos = data.isnull().sum()\n",
        "valores_nulos"
      ],
      "metadata": {
        "id": "wp3rhFc5ONpq"
      },
      "execution_count": null,
      "outputs": []
    },
    {
      "cell_type": "code",
      "source": [
        "data.to_csv(\"ventas_sin_nulos.csv\")"
      ],
      "metadata": {
        "id": "Nn3eVmEFSvx0"
      },
      "execution_count": 36,
      "outputs": []
    }
  ]
}